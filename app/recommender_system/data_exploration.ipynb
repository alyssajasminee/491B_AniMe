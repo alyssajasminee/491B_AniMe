{
 "cells": [
  {
   "cell_type": "code",
   "execution_count": 47,
   "metadata": {
    "collapsed": true
   },
   "outputs": [],
   "source": [
    "import h5py\n",
    "import numpy as np\n",
    "import pandas as pd\n",
    "import matplotlib as plt\n",
    "import app.backend.DBController as dbc\n",
    "\n",
    "from sklearn.model_selection import train_test_split\n",
    "\n",
    "%matplotlib inline"
   ]
  },
  {
   "cell_type": "code",
   "execution_count": 2,
   "outputs": [],
   "source": [
    "def to_df(db, query, limit=None):\n",
    "    if limit is None:\n",
    "        cursor = db.find(query)\n",
    "    else:\n",
    "        cursor = db.find(query).limit(limit)\n",
    "\n",
    "    df = pd.DataFrame(list(cursor))\n",
    "    return df"
   ],
   "metadata": {
    "collapsed": false,
    "pycharm": {
     "name": "#%%\n"
    }
   }
  },
  {
   "cell_type": "code",
   "execution_count": 3,
   "outputs": [],
   "source": [
    "rdb_controller = dbc.DBController().reviewDB\n",
    "reviews_db = rdb_controller.get_reviews()\n",
    "df = to_df(reviews_db, {})"
   ],
   "metadata": {
    "collapsed": false,
    "pycharm": {
     "name": "#%%\n"
    }
   }
  },
  {
   "cell_type": "code",
   "execution_count": 4,
   "outputs": [
    {
     "data": {
      "text/plain": "                              _id user_id  anime_id  rating description title\n0        605181610febcb00256d9bd0       1        20      -1                  \n1        605181610febcb00256d9bd1       1        24      -1                  \n2        605181610febcb00256d9bd2       1        79      -1                  \n3        605181610febcb00256d9bd3       1       226      -1                  \n4        605181610febcb00256d9bd4       1       241      -1                  \n...                           ...     ...       ...     ...         ...   ...\n3399995  6051842a0febcb0025a17d0b   31320     18115       8                  \n3399996  6051842a0febcb0025a17d0c   31320     18153      -1                  \n3399997  6051842a0febcb0025a17d0d   31320     18247      -1                  \n3399998  6051842a0febcb0025a17d0e   31320     18277      -1                  \n3399999  6051842a0febcb0025a17d0f   31320     18393       9                  \n\n[3400000 rows x 6 columns]",
      "text/html": "<div>\n<style scoped>\n    .dataframe tbody tr th:only-of-type {\n        vertical-align: middle;\n    }\n\n    .dataframe tbody tr th {\n        vertical-align: top;\n    }\n\n    .dataframe thead th {\n        text-align: right;\n    }\n</style>\n<table border=\"1\" class=\"dataframe\">\n  <thead>\n    <tr style=\"text-align: right;\">\n      <th></th>\n      <th>_id</th>\n      <th>user_id</th>\n      <th>anime_id</th>\n      <th>rating</th>\n      <th>description</th>\n      <th>title</th>\n    </tr>\n  </thead>\n  <tbody>\n    <tr>\n      <th>0</th>\n      <td>605181610febcb00256d9bd0</td>\n      <td>1</td>\n      <td>20</td>\n      <td>-1</td>\n      <td></td>\n      <td></td>\n    </tr>\n    <tr>\n      <th>1</th>\n      <td>605181610febcb00256d9bd1</td>\n      <td>1</td>\n      <td>24</td>\n      <td>-1</td>\n      <td></td>\n      <td></td>\n    </tr>\n    <tr>\n      <th>2</th>\n      <td>605181610febcb00256d9bd2</td>\n      <td>1</td>\n      <td>79</td>\n      <td>-1</td>\n      <td></td>\n      <td></td>\n    </tr>\n    <tr>\n      <th>3</th>\n      <td>605181610febcb00256d9bd3</td>\n      <td>1</td>\n      <td>226</td>\n      <td>-1</td>\n      <td></td>\n      <td></td>\n    </tr>\n    <tr>\n      <th>4</th>\n      <td>605181610febcb00256d9bd4</td>\n      <td>1</td>\n      <td>241</td>\n      <td>-1</td>\n      <td></td>\n      <td></td>\n    </tr>\n    <tr>\n      <th>...</th>\n      <td>...</td>\n      <td>...</td>\n      <td>...</td>\n      <td>...</td>\n      <td>...</td>\n      <td>...</td>\n    </tr>\n    <tr>\n      <th>3399995</th>\n      <td>6051842a0febcb0025a17d0b</td>\n      <td>31320</td>\n      <td>18115</td>\n      <td>8</td>\n      <td></td>\n      <td></td>\n    </tr>\n    <tr>\n      <th>3399996</th>\n      <td>6051842a0febcb0025a17d0c</td>\n      <td>31320</td>\n      <td>18153</td>\n      <td>-1</td>\n      <td></td>\n      <td></td>\n    </tr>\n    <tr>\n      <th>3399997</th>\n      <td>6051842a0febcb0025a17d0d</td>\n      <td>31320</td>\n      <td>18247</td>\n      <td>-1</td>\n      <td></td>\n      <td></td>\n    </tr>\n    <tr>\n      <th>3399998</th>\n      <td>6051842a0febcb0025a17d0e</td>\n      <td>31320</td>\n      <td>18277</td>\n      <td>-1</td>\n      <td></td>\n      <td></td>\n    </tr>\n    <tr>\n      <th>3399999</th>\n      <td>6051842a0febcb0025a17d0f</td>\n      <td>31320</td>\n      <td>18393</td>\n      <td>9</td>\n      <td></td>\n      <td></td>\n    </tr>\n  </tbody>\n</table>\n<p>3400000 rows × 6 columns</p>\n</div>"
     },
     "execution_count": 4,
     "metadata": {},
     "output_type": "execute_result"
    }
   ],
   "source": [
    "df\n"
   ],
   "metadata": {
    "collapsed": false,
    "pycharm": {
     "name": "#%%\n"
    }
   }
  },
  {
   "cell_type": "code",
   "execution_count": 8,
   "outputs": [
    {
     "data": {
      "text/plain": "array([[<AxesSubplot:title={'center':'rating'}>]], dtype=object)"
     },
     "execution_count": 8,
     "metadata": {},
     "output_type": "execute_result"
    },
    {
     "data": {
      "text/plain": "<Figure size 432x288 with 1 Axes>",
      "image/png": "[encoded data removed]"
     },
     "metadata": {
      "needs_background": "light"
     },
     "output_type": "display_data"
    }
   ],
   "source": [
    "df.hist('rating', bins=10)"
   ],
   "metadata": {
    "collapsed": false,
    "pycharm": {
     "name": "#%%\n"
    }
   }
  },
  {
   "cell_type": "code",
   "execution_count": 17,
   "outputs": [
    {
     "name": "stdout",
     "output_type": "stream",
     "text": [
      "Number of unique users: \n"
     ]
    },
    {
     "data": {
      "text/plain": "31320"
     },
     "execution_count": 17,
     "metadata": {},
     "output_type": "execute_result"
    }
   ],
   "source": [
    "print(\"Number of unique users: \")\n",
    "df.user_id.nunique()\n"
   ],
   "metadata": {
    "collapsed": false,
    "pycharm": {
     "name": "#%%\n"
    }
   }
  },
  {
   "cell_type": "code",
   "execution_count": 19,
   "outputs": [
    {
     "name": "stdout",
     "output_type": "stream",
     "text": [
      "Number of unique animes: \n"
     ]
    },
    {
     "data": {
      "text/plain": "9657"
     },
     "execution_count": 19,
     "metadata": {},
     "output_type": "execute_result"
    }
   ],
   "source": [
    "print(\"Number of unique animes: \")\n",
    "df.anime_id.nunique()"
   ],
   "metadata": {
    "collapsed": false,
    "pycharm": {
     "name": "#%%\n"
    }
   }
  },
  {
   "cell_type": "code",
   "execution_count": 23,
   "outputs": [
    {
     "data": {
      "text/plain": "-1"
     },
     "execution_count": 23,
     "metadata": {},
     "output_type": "execute_result"
    }
   ],
   "source": [
    "df['rating'].min()"
   ],
   "metadata": {
    "collapsed": false,
    "pycharm": {
     "name": "#%%\n"
    }
   }
  },
  {
   "cell_type": "code",
   "execution_count": 24,
   "outputs": [
    {
     "data": {
      "text/plain": "10"
     },
     "execution_count": 24,
     "metadata": {},
     "output_type": "execute_result"
    }
   ],
   "source": [
    "df['rating'].max()\n"
   ],
   "metadata": {
    "collapsed": false,
    "pycharm": {
     "name": "#%%\n"
    }
   }
  },
  {
   "cell_type": "code",
   "execution_count": 25,
   "outputs": [
    {
     "data": {
      "text/plain": "                              _id user_id  anime_id  rating description title\n0        605181610febcb00256d9bd0       1        20      -1                  \n1        605181610febcb00256d9bd1       1        24      -1                  \n2        605181610febcb00256d9bd2       1        79      -1                  \n3        605181610febcb00256d9bd3       1       226      -1                  \n4        605181610febcb00256d9bd4       1       241      -1                  \n...                           ...     ...       ...     ...         ...   ...\n3399987  6051842a0febcb0025a17d03   31320     17074      -1                  \n3399992  6051842a0febcb0025a17d08   31320     17777      -1                  \n3399996  6051842a0febcb0025a17d0c   31320     18153      -1                  \n3399997  6051842a0febcb0025a17d0d   31320     18247      -1                  \n3399998  6051842a0febcb0025a17d0e   31320     18277      -1                  \n\n[643354 rows x 6 columns]",
      "text/html": "<div>\n<style scoped>\n    .dataframe tbody tr th:only-of-type {\n        vertical-align: middle;\n    }\n\n    .dataframe tbody tr th {\n        vertical-align: top;\n    }\n\n    .dataframe thead th {\n        text-align: right;\n    }\n</style>\n<table border=\"1\" class=\"dataframe\">\n  <thead>\n    <tr style=\"text-align: right;\">\n      <th></th>\n      <th>_id</th>\n      <th>user_id</th>\n      <th>anime_id</th>\n      <th>rating</th>\n      <th>description</th>\n      <th>title</th>\n    </tr>\n  </thead>\n  <tbody>\n    <tr>\n      <th>0</th>\n      <td>605181610febcb00256d9bd0</td>\n      <td>1</td>\n      <td>20</td>\n      <td>-1</td>\n      <td></td>\n      <td></td>\n    </tr>\n    <tr>\n      <th>1</th>\n      <td>605181610febcb00256d9bd1</td>\n      <td>1</td>\n      <td>24</td>\n      <td>-1</td>\n      <td></td>\n      <td></td>\n    </tr>\n    <tr>\n      <th>2</th>\n      <td>605181610febcb00256d9bd2</td>\n      <td>1</td>\n      <td>79</td>\n      <td>-1</td>\n      <td></td>\n      <td></td>\n    </tr>\n    <tr>\n      <th>3</th>\n      <td>605181610febcb00256d9bd3</td>\n      <td>1</td>\n      <td>226</td>\n      <td>-1</td>\n      <td></td>\n      <td></td>\n    </tr>\n    <tr>\n      <th>4</th>\n      <td>605181610febcb00256d9bd4</td>\n      <td>1</td>\n      <td>241</td>\n      <td>-1</td>\n      <td></td>\n      <td></td>\n    </tr>\n    <tr>\n      <th>...</th>\n      <td>...</td>\n      <td>...</td>\n      <td>...</td>\n      <td>...</td>\n      <td>...</td>\n      <td>...</td>\n    </tr>\n    <tr>\n      <th>3399987</th>\n      <td>6051842a0febcb0025a17d03</td>\n      <td>31320</td>\n      <td>17074</td>\n      <td>-1</td>\n      <td></td>\n      <td></td>\n    </tr>\n    <tr>\n      <th>3399992</th>\n      <td>6051842a0febcb0025a17d08</td>\n      <td>31320</td>\n      <td>17777</td>\n      <td>-1</td>\n      <td></td>\n      <td></td>\n    </tr>\n    <tr>\n      <th>3399996</th>\n      <td>6051842a0febcb0025a17d0c</td>\n      <td>31320</td>\n      <td>18153</td>\n      <td>-1</td>\n      <td></td>\n      <td></td>\n    </tr>\n    <tr>\n      <th>3399997</th>\n      <td>6051842a0febcb0025a17d0d</td>\n      <td>31320</td>\n      <td>18247</td>\n      <td>-1</td>\n      <td></td>\n      <td></td>\n    </tr>\n    <tr>\n      <th>3399998</th>\n      <td>6051842a0febcb0025a17d0e</td>\n      <td>31320</td>\n      <td>18277</td>\n      <td>-1</td>\n      <td></td>\n      <td></td>\n    </tr>\n  </tbody>\n</table>\n<p>643354 rows × 6 columns</p>\n</div>"
     },
     "execution_count": 25,
     "metadata": {},
     "output_type": "execute_result"
    }
   ],
   "source": [
    "df.loc[df['rating'] == -1]"
   ],
   "metadata": {
    "collapsed": false,
    "pycharm": {
     "name": "#%%\n"
    }
   }
  },
  {
   "cell_type": "code",
   "execution_count": 27,
   "outputs": [],
   "source": [
    "df.drop(df[df['rating'] == -1].index, inplace=True)"
   ],
   "metadata": {
    "collapsed": false,
    "pycharm": {
     "name": "#%%\n"
    }
   }
  },
  {
   "cell_type": "code",
   "execution_count": 28,
   "outputs": [
    {
     "data": {
      "text/plain": "                              _id user_id  anime_id  rating description title\n47       605181610febcb00256d9bff       1      8074      10                  \n81       605181610febcb00256d9c21       1     11617      10                  \n83       605181610febcb00256d9c23       1     11757      10                  \n101      605181610febcb00256d9c35       1     15451      10                  \n153      605181610febcb00256d9c69       2     11771      10                  \n...                           ...     ...       ...     ...         ...   ...\n3399991  6051842a0febcb0025a17d07   31320     17729       7                  \n3399993  6051842a0febcb0025a17d09   31320     17827       6                  \n3399994  6051842a0febcb0025a17d0a   31320     17895       6                  \n3399995  6051842a0febcb0025a17d0b   31320     18115       8                  \n3399999  6051842a0febcb0025a17d0f   31320     18393       9                  \n\n[2756646 rows x 6 columns]",
      "text/html": "<div>\n<style scoped>\n    .dataframe tbody tr th:only-of-type {\n        vertical-align: middle;\n    }\n\n    .dataframe tbody tr th {\n        vertical-align: top;\n    }\n\n    .dataframe thead th {\n        text-align: right;\n    }\n</style>\n<table border=\"1\" class=\"dataframe\">\n  <thead>\n    <tr style=\"text-align: right;\">\n      <th></th>\n      <th>_id</th>\n      <th>user_id</th>\n      <th>anime_id</th>\n      <th>rating</th>\n      <th>description</th>\n      <th>title</th>\n    </tr>\n  </thead>\n  <tbody>\n    <tr>\n      <th>47</th>\n      <td>605181610febcb00256d9bff</td>\n      <td>1</td>\n      <td>8074</td>\n      <td>10</td>\n      <td></td>\n      <td></td>\n    </tr>\n    <tr>\n      <th>81</th>\n      <td>605181610febcb00256d9c21</td>\n      <td>1</td>\n      <td>11617</td>\n      <td>10</td>\n      <td></td>\n      <td></td>\n    </tr>\n    <tr>\n      <th>83</th>\n      <td>605181610febcb00256d9c23</td>\n      <td>1</td>\n      <td>11757</td>\n      <td>10</td>\n      <td></td>\n      <td></td>\n    </tr>\n    <tr>\n      <th>101</th>\n      <td>605181610febcb00256d9c35</td>\n      <td>1</td>\n      <td>15451</td>\n      <td>10</td>\n      <td></td>\n      <td></td>\n    </tr>\n    <tr>\n      <th>153</th>\n      <td>605181610febcb00256d9c69</td>\n      <td>2</td>\n      <td>11771</td>\n      <td>10</td>\n      <td></td>\n      <td></td>\n    </tr>\n    <tr>\n      <th>...</th>\n      <td>...</td>\n      <td>...</td>\n      <td>...</td>\n      <td>...</td>\n      <td>...</td>\n      <td>...</td>\n    </tr>\n    <tr>\n      <th>3399991</th>\n      <td>6051842a0febcb0025a17d07</td>\n      <td>31320</td>\n      <td>17729</td>\n      <td>7</td>\n      <td></td>\n      <td></td>\n    </tr>\n    <tr>\n      <th>3399993</th>\n      <td>6051842a0febcb0025a17d09</td>\n      <td>31320</td>\n      <td>17827</td>\n      <td>6</td>\n      <td></td>\n      <td></td>\n    </tr>\n    <tr>\n      <th>3399994</th>\n      <td>6051842a0febcb0025a17d0a</td>\n      <td>31320</td>\n      <td>17895</td>\n      <td>6</td>\n      <td></td>\n      <td></td>\n    </tr>\n    <tr>\n      <th>3399995</th>\n      <td>6051842a0febcb0025a17d0b</td>\n      <td>31320</td>\n      <td>18115</td>\n      <td>8</td>\n      <td></td>\n      <td></td>\n    </tr>\n    <tr>\n      <th>3399999</th>\n      <td>6051842a0febcb0025a17d0f</td>\n      <td>31320</td>\n      <td>18393</td>\n      <td>9</td>\n      <td></td>\n      <td></td>\n    </tr>\n  </tbody>\n</table>\n<p>2756646 rows × 6 columns</p>\n</div>"
     },
     "execution_count": 28,
     "metadata": {},
     "output_type": "execute_result"
    }
   ],
   "source": [
    "df"
   ],
   "metadata": {
    "collapsed": false,
    "pycharm": {
     "name": "#%%\n"
    }
   }
  },
  {
   "cell_type": "code",
   "execution_count": 29,
   "outputs": [
    {
     "name": "stdout",
     "output_type": "stream",
     "text": [
      "Min rating:  1\n",
      "Max rating:  10\n"
     ]
    }
   ],
   "source": [
    "min_rating = df['rating'].min()\n",
    "max_rating = df['rating'].max()\n",
    "print(\"Min rating: \", min_rating)\n",
    "print(\"Max rating: \", max_rating)"
   ],
   "metadata": {
    "collapsed": false,
    "pycharm": {
     "name": "#%%\n"
    }
   }
  },
  {
   "cell_type": "code",
   "execution_count": 36,
   "outputs": [
    {
     "data": {
      "text/plain": "array([[<AxesSubplot:title={'center':'rating'}>]], dtype=object)"
     },
     "execution_count": 36,
     "metadata": {},
     "output_type": "execute_result"
    },
    {
     "data": {
      "text/plain": "<Figure size 432x288 with 1 Axes>",
      "image/png": "[encoded data removed]"
     },
     "metadata": {
      "needs_background": "light"
     },
     "output_type": "display_data"
    }
   ],
   "source": [
    "df.hist('rating', bins=10)"
   ],
   "metadata": {
    "collapsed": false,
    "pycharm": {
     "name": "#%%\n"
    }
   }
  },
  {
   "cell_type": "code",
   "execution_count": 37,
   "outputs": [],
   "source": [
    "df = df.sample(frac=1, random_state=33)\n",
    "features = df[['user_id', 'anime_id']].astype('int32').values"
   ],
   "metadata": {
    "collapsed": false,
    "pycharm": {
     "name": "#%%\n"
    }
   }
  },
  {
   "cell_type": "code",
   "execution_count": 38,
   "outputs": [],
   "source": [
    "targets = df['rating'].apply(lambda x: (x - min_rating) / (max_rating - min_rating)).values"
   ],
   "metadata": {
    "collapsed": false,
    "pycharm": {
     "name": "#%%\n"
    }
   }
  },
  {
   "cell_type": "code",
   "execution_count": 39,
   "outputs": [
    {
     "data": {
      "text/plain": "array([[30267, 15315],\n       [ 7571,   190],\n       [ 2834, 16866],\n       ...,\n       [21160, 10213],\n       [ 8521,  1575],\n       [10438,  4186]], dtype=int32)"
     },
     "execution_count": 39,
     "metadata": {},
     "output_type": "execute_result"
    }
   ],
   "source": [
    "features"
   ],
   "metadata": {
    "collapsed": false,
    "pycharm": {
     "name": "#%%\n"
    }
   }
  },
  {
   "cell_type": "code",
   "execution_count": 40,
   "outputs": [
    {
     "data": {
      "text/plain": "array([0.88888889, 1.        , 0.77777778, ..., 1.        , 0.77777778,\n       0.66666667])"
     },
     "execution_count": 40,
     "metadata": {},
     "output_type": "execute_result"
    }
   ],
   "source": [
    "targets\n"
   ],
   "metadata": {
    "collapsed": false,
    "pycharm": {
     "name": "#%%\n"
    }
   }
  },
  {
   "cell_type": "code",
   "execution_count": 42,
   "outputs": [],
   "source": [
    "X_train, X_test, Y_train, Y_test = train_test_split(features, targets, test_size=0.2, random_state=33)"
   ],
   "metadata": {
    "collapsed": false,
    "pycharm": {
     "name": "#%%\n"
    }
   }
  },
  {
   "cell_type": "code",
   "execution_count": 43,
   "outputs": [
    {
     "data": {
      "text/plain": "array([0.66666667, 0.44444444, 0.66666667, ..., 0.66666667, 0.77777778,\n       1.        ])"
     },
     "execution_count": 43,
     "metadata": {},
     "output_type": "execute_result"
    }
   ],
   "source": [
    "X_train\n",
    "Y_train\n",
    "\n",
    "X_test\n",
    "Y_test"
   ],
   "metadata": {
    "collapsed": false,
    "pycharm": {
     "name": "#%%\n"
    }
   }
  },
  {
   "cell_type": "code",
   "execution_count": 44,
   "outputs": [
    {
     "name": "stdout",
     "output_type": "stream",
     "text": [
      "Avg rating (train):  0.7558239071205914\n",
      "Standard deviation in rating (train):  0.17606892375961694\n"
     ]
    }
   ],
   "source": [
    "print(\"Avg rating (train): \", Y_train.mean())\n",
    "print(\"Standard deviation in rating (train): \", Y_train.std())\n"
   ],
   "metadata": {
    "collapsed": false,
    "pycharm": {
     "name": "#%%\n"
    }
   }
  },
  {
   "cell_type": "code",
   "execution_count": 45,
   "outputs": [
    {
     "name": "stdout",
     "output_type": "stream",
     "text": [
      "Avg rating (test):  0.7555446727811737\n",
      "Standard deviation in rating (test):  0.17575448732889212\n"
     ]
    }
   ],
   "source": [
    "print(\"Avg rating (test): \", Y_test.mean())\n",
    "print(\"Standard deviation in rating (test): \", Y_test.std())"
   ],
   "metadata": {
    "collapsed": false,
    "pycharm": {
     "name": "#%%\n"
    }
   }
  },
  {
   "cell_type": "code",
   "execution_count": 48,
   "outputs": [],
   "source": [
    "def write(data, gts, outfile):\n",
    "    '''\n",
    "        This function writes the pre-processed image data to a HDF5 file\n",
    "        Args:\n",
    "          data: numpy.array, image data as numpy array\n",
    "          outfile: string, path to write file to\n",
    "    '''\n",
    "    print(\"---------------------------------------\")\n",
    "    print(\"Saving data\")\n",
    "    print(\"---------------------------------------\\n\")\n",
    "    with h5py.File(outfile, \"w\") as f:\n",
    "        f.create_dataset(\"features\", data=data, dtype=data.dtype)\n",
    "        f.create_dataset(\"gts\", data=gts, dtype=gts.dtype)"
   ],
   "metadata": {
    "collapsed": false,
    "pycharm": {
     "name": "#%%\n"
    }
   }
  },
  {
   "cell_type": "code",
   "execution_count": 50,
   "outputs": [
    {
     "name": "stdout",
     "output_type": "stream",
     "text": [
      "---------------------------------------\n",
      "Saving data\n",
      "---------------------------------------\n",
      "\n",
      "---------------------------------------\n",
      "Saving data\n",
      "---------------------------------------\n",
      "\n"
     ]
    }
   ],
   "source": [
    "write(X_train, Y_train, \"./data/train.hdf5\")\n",
    "write(X_test, Y_test, \"./data/test.hdf5\")"
   ],
   "metadata": {
    "collapsed": false,
    "pycharm": {
     "name": "#%%\n"
    }
   }
  },
  {
   "cell_type": "code",
   "execution_count": null,
   "outputs": [],
   "source": [],
   "metadata": {
    "collapsed": false,
    "pycharm": {
     "name": "#%%\n"
    }
   }
  }
 ],
 "metadata": {
  "kernelspec": {
   "display_name": "Python 3",
   "language": "python",
   "name": "python3"
  },
  "language_info": {
   "codemirror_mode": {
    "name": "ipython",
    "version": 2
   },
   "file_extension": ".py",
   "mimetype": "text/x-python",
   "name": "python",
   "nbconvert_exporter": "python",
   "pygments_lexer": "ipython2",
   "version": "2.7.6"
  }
 },
 "nbformat": 4,
 "nbformat_minor": 0
}