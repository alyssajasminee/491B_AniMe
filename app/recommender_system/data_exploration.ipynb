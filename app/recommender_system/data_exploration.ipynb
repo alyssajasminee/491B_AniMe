{
 "cells": [
  {
   "cell_type": "code",
   "execution_count": 2,
   "metadata": {
    "pycharm": {
     "is_executing": true
    }
   },
   "outputs": [],
   "source": [
    "import h5py\n",
    "import numpy as np\n",
    "import pandas as pd\n",
    "import matplotlib as plt\n",
    "import app.backend.DBController as dbc\n",
    "\n",
    "from pymongo import UpdateOne\n",
    "from sklearn.model_selection import train_test_split\n",
    "\n",
    "%matplotlib inline"
   ]
  },
  {
   "cell_type": "code",
   "execution_count": 3,
   "metadata": {
    "pycharm": {
     "name": "#%%\n"
    }
   },
   "outputs": [],
   "source": [
    "def to_df(db, query, limit=None):\n",
    "    if limit is None:\n",
    "        cursor = db.find(query)\n",
    "    else:\n",
    "        cursor = db.find(query).limit(limit)\n",
    "\n",
    "    df = pd.DataFrame(list(cursor))\n",
    "    return df"
   ],
   "metadata": {
    "collapsed": false,
    "pycharm": {
     "name": "#%%\n"
    }
   }
  },
  {
   "cell_type": "code",
   "execution_count": 3,
   "outputs": [
    {
     "data": {
      "text/plain": "                              _id user_id  anime_id  rating description title\n0        605181610febcb00256d9bd0       1        20      -1                  \n1        605181610febcb00256d9bd1       1        24      -1                  \n2        605181610febcb00256d9bd2       1        79      -1                  \n3        605181610febcb00256d9bd3       1       226      -1                  \n4        605181610febcb00256d9bd4       1       241      -1                  \n...                           ...     ...       ...     ...         ...   ...\n3399995  6051842a0febcb0025a17d0b   31320     18115       8                  \n3399996  6051842a0febcb0025a17d0c   31320     18153      -1                  \n3399997  6051842a0febcb0025a17d0d   31320     18247      -1                  \n3399998  6051842a0febcb0025a17d0e   31320     18277      -1                  \n3399999  6051842a0febcb0025a17d0f   31320     18393       9                  \n\n[3400000 rows x 6 columns]",
      "text/html": "<div>\n<style scoped>\n    .dataframe tbody tr th:only-of-type {\n        vertical-align: middle;\n    }\n\n    .dataframe tbody tr th {\n        vertical-align: top;\n    }\n\n    .dataframe thead th {\n        text-align: right;\n    }\n</style>\n<table border=\"1\" class=\"dataframe\">\n  <thead>\n    <tr style=\"text-align: right;\">\n      <th></th>\n      <th>_id</th>\n      <th>user_id</th>\n      <th>anime_id</th>\n      <th>rating</th>\n      <th>description</th>\n      <th>title</th>\n    </tr>\n  </thead>\n  <tbody>\n    <tr>\n      <th>0</th>\n      <td>605181610febcb00256d9bd0</td>\n      <td>1</td>\n      <td>20</td>\n      <td>-1</td>\n      <td></td>\n      <td></td>\n    </tr>\n    <tr>\n      <th>1</th>\n      <td>605181610febcb00256d9bd1</td>\n      <td>1</td>\n      <td>24</td>\n      <td>-1</td>\n      <td></td>\n      <td></td>\n    </tr>\n    <tr>\n      <th>2</th>\n      <td>605181610febcb00256d9bd2</td>\n      <td>1</td>\n      <td>79</td>\n      <td>-1</td>\n      <td></td>\n      <td></td>\n    </tr>\n    <tr>\n      <th>3</th>\n      <td>605181610febcb00256d9bd3</td>\n      <td>1</td>\n      <td>226</td>\n      <td>-1</td>\n      <td></td>\n      <td></td>\n    </tr>\n    <tr>\n      <th>4</th>\n      <td>605181610febcb00256d9bd4</td>\n      <td>1</td>\n      <td>241</td>\n      <td>-1</td>\n      <td></td>\n      <td></td>\n    </tr>\n    <tr>\n      <th>...</th>\n      <td>...</td>\n      <td>...</td>\n      <td>...</td>\n      <td>...</td>\n      <td>...</td>\n      <td>...</td>\n    </tr>\n    <tr>\n      <th>3399995</th>\n      <td>6051842a0febcb0025a17d0b</td>\n      <td>31320</td>\n      <td>18115</td>\n      <td>8</td>\n      <td></td>\n      <td></td>\n    </tr>\n    <tr>\n      <th>3399996</th>\n      <td>6051842a0febcb0025a17d0c</td>\n      <td>31320</td>\n      <td>18153</td>\n      <td>-1</td>\n      <td></td>\n      <td></td>\n    </tr>\n    <tr>\n      <th>3399997</th>\n      <td>6051842a0febcb0025a17d0d</td>\n      <td>31320</td>\n      <td>18247</td>\n      <td>-1</td>\n      <td></td>\n      <td></td>\n    </tr>\n    <tr>\n      <th>3399998</th>\n      <td>6051842a0febcb0025a17d0e</td>\n      <td>31320</td>\n      <td>18277</td>\n      <td>-1</td>\n      <td></td>\n      <td></td>\n    </tr>\n    <tr>\n      <th>3399999</th>\n      <td>6051842a0febcb0025a17d0f</td>\n      <td>31320</td>\n      <td>18393</td>\n      <td>9</td>\n      <td></td>\n      <td></td>\n    </tr>\n  </tbody>\n</table>\n<p>3400000 rows × 6 columns</p>\n</div>"
     },
     "execution_count": 3,
     "metadata": {},
     "output_type": "execute_result"
    }
   ],
   "source": [
    "rdb_controller = dbc.DBController().reviewDB\n",
    "reviews_db = rdb_controller.get_reviews()\n",
    "df = to_df(reviews_db, {})"
   ],
   "metadata": {
    "collapsed": false,
    "pycharm": {
     "name": "#%%\n"
    }
   }
  },
  {
   "cell_type": "code",
   "execution_count": null,
   "outputs": [],
   "source": [],
   "metadata": {
    "collapsed": false,
    "pycharm": {
     "name": "#%%\n"
    }
   }
  }
 ],
 "metadata": {
  "kernelspec": {
   "display_name": "Python 3",
   "language": "python",
   "name": "python3"
  },
  "language_info": {
   "codemirror_mode": {
    "name": "ipython",
    "version": 2
   },
   "file_extension": ".py",
   "mimetype": "text/x-python",
   "name": "python",
   "nbconvert_exporter": "python",
   "pygments_lexer": "ipython2",
   "version": "2.7.6"
  }
 },
 "nbformat": 4,
 "nbformat_minor": 0
}