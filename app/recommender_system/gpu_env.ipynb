{
 "nbformat": 4,
 "nbformat_minor": 0,
 "metadata": {
  "colab": {
   "name": "env_setup.ipynb",
   "provenance": [],
   "collapsed_sections": [],
   "authorship_tag": "ABX9TyNE//xKBBbMoohDXej2oqFL"
  },
  "kernelspec": {
   "name": "python3",
   "language": "python",
   "display_name": "Python 3"
  }
 },
 "cells": [
  {
   "cell_type": "code",
   "metadata": {
    "colab": {
     "base_uri": "https://localhost:8080/"
    },
    "id": "zYl6tMst7593",
    "executionInfo": {
     "status": "ok",
     "timestamp": 1614204652890,
     "user_tz": 480,
     "elapsed": 27475,
     "user": {
      "displayName": "Matthew Buchholz",
      "photoUrl": "",
      "userId": "01030673411075823670"
     }
    },
    "outputId": "6fec23c5-e9fa-4de3-a0b1-758f619abe93"
   },
   "source": [
    "from google.colab import drive\n",
    "\n",
    "ROOT = \"/content/drive\"\n",
    "print(ROOT)\n",
    "drive.mount(ROOT, force_remount=True)"
   ],
   "execution_count": 1,
   "outputs": [
    {
     "output_type": "stream",
     "text": [
      "/content/drive\n",
      "Mounted at /content/drive\n"
     ],
     "name": "stdout"
    }
   ]
  },
  {
   "cell_type": "code",
   "metadata": {
    "colab": {
     "base_uri": "https://localhost:8080/"
    },
    "id": "1K5jqlHH8TdI",
    "executionInfo": {
     "status": "ok",
     "timestamp": 1614204698358,
     "user_tz": 480,
     "elapsed": 343,
     "user": {
      "displayName": "Matthew Buchholz",
      "photoUrl": "",
      "userId": "01030673411075823670"
     }
    },
    "outputId": "0f6c65e7-12f6-4a74-e1f6-50a7038735d1",
    "pycharm": {
     "name": "#%%\n"
    }
   },
   "source": [
    "%cd './drive/MyDrive/491B_AniMe/recommender_system/'\n",
    "\n",
    "\n"
   ],
   "execution_count": 2,
   "outputs": [
    {
     "output_type": "stream",
     "text": [
      "/content/drive/MyDrive/491B_AniMe/recommender_system\n"
     ],
     "name": "stdout"
    }
   ]
  }
 ]
}