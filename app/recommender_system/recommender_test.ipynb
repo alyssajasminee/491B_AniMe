{
 "cells": [
  {
   "cell_type": "code",
   "execution_count": 1,
   "metadata": {},
   "outputs": [],
   "source": [
    "import recommender.Recommender as RecommenderSystem"
   ]
  },
  {
   "cell_type": "code",
   "execution_count": 2,
   "metadata": {
    "pycharm": {
     "name": "#%%\n"
    }
   },
   "outputs": [],
   "source": [
    "recommender = RecommenderSystem.Recommender()"
   ]
  },
  {
   "cell_type": "code",
   "execution_count": 20,
   "metadata": {},
   "outputs": [
    {
     "name": "stdout",
     "output_type": "stream",
     "text": [
      "8177\n",
      "9209\n",
      "6473\n",
      "4930\n",
      "9313\n",
      "9124\n",
      "8405\n",
      "9346\n",
      "8761\n",
      "8390\n"
     ]
    }
   ],
   "source": [
    "rec_list = recommender.recommend(12345678)"
   ]
  },
  {
   "cell_type": "code",
   "execution_count": 21,
   "metadata": {},
   "outputs": [
    {
     "data": {
      "text/plain": [
       "[6842, 25971, 8409, 29855, 3769, 4521, 29615, 31575, 9916, 29393]"
      ]
     },
     "execution_count": 21,
     "metadata": {},
     "output_type": "execute_result"
    }
   ],
   "source": [
    "rec_list"
   ]
  },
  {
   "cell_type": "code",
   "execution_count": 6,
   "metadata": {},
   "outputs": [],
   "source": [
    "import app.backend.DBController as dbc\n",
    "aidx_controller = dbc.DBController().animeIdxDB"
   ]
  },
  {
   "cell_type": "code",
   "execution_count": 6,
   "metadata": {},
   "outputs": [
    {
     "data": {
      "text/plain": [
       "6485"
      ]
     },
     "execution_count": 6,
     "metadata": {},
     "output_type": "execute_result"
    }
   ],
   "source": [
    "aidx_controller.get_new_anime_id(5322)"
   ]
  },
  {
   "cell_type": "code",
   "execution_count": 7,
   "metadata": {},
   "outputs": [
    {
     "data": {
      "text/plain": [
       "[{'_id': ObjectId('60870284f072b65586b19505'),\n",
       "  'anime_id': 34367,\n",
       "  'new_anime_id': 9333}]"
      ]
     },
     "execution_count": 7,
     "metadata": {},
     "output_type": "execute_result"
    }
   ],
   "source": [
    "list(aidx_controller.db.find({'new_anime_id': 9333}))"
   ]
  },
  {
   "cell_type": "code",
   "execution_count": 15,
   "metadata": {},
   "outputs": [],
   "source": [
    "rdb_controller = dbc.DBController().animeDB.get_animes()"
   ]
  },
  {
   "cell_type": "code",
   "execution_count": 22,
   "metadata": {},
   "outputs": [
    {
     "name": "stdout",
     "output_type": "stream",
     "text": [
      "Oyoge ya Oyoge\n",
      "Angel (Special)\n",
      "Marie & Gali ver. 2.0\n",
      "Meiji Tokyo Renka Movie 1: Yumihari no Serenade\n",
      "Play Ball 2nd\n",
      "Watt Poe to Bokura no Ohanashi\n",
      "Oh Yoko!\n",
      "Offside\n",
      "Samurai Giants\n",
      "Pinky Monkey no Umareta Hi\n"
     ]
    }
   ],
   "source": [
    "for x in rec_list:\n",
    "    print(list(rdb_controller.find({'anime_id': x}))[0]['title'])"
   ]
  },
  {
   "cell_type": "code",
   "execution_count": null,
   "metadata": {},
   "outputs": [],
   "source": []
  }
 ],
 "metadata": {
  "kernelspec": {
   "display_name": "Python 3",
   "language": "python",
   "name": "python3"
  },
  "language_info": {
   "codemirror_mode": {
    "name": "ipython",
    "version": 3
   },
   "file_extension": ".py",
   "mimetype": "text/x-python",
   "name": "python",
   "nbconvert_exporter": "python",
   "pygments_lexer": "ipython3",
   "version": "3.8.8"
  }
 },
 "nbformat": 4,
 "nbformat_minor": 1
}
