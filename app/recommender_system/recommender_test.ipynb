{
 "cells": [
  {
   "cell_type": "code",
   "execution_count": 1,
   "metadata": {},
   "outputs": [],
   "source": [
    "import recommender.Recommender as RecommenderSystem"
   ]
  },
  {
   "cell_type": "code",
   "execution_count": 2,
   "metadata": {
    "pycharm": {
     "name": "#%%\n"
    }
   },
   "outputs": [],
   "source": [
    "recommender = RecommenderSystem.Recommender()"
   ]
  },
  {
   "cell_type": "code",
   "execution_count": 3,
   "metadata": {},
   "outputs": [
    {
     "name": "stdout",
     "output_type": "stream",
     "text": [
      "9333\n",
      "5322\n",
      "7965\n",
      "8125\n",
      "4266\n",
      "7141\n",
      "3387\n",
      "9232\n",
      "8842\n",
      "8204\n"
     ]
    }
   ],
   "source": [
    "rec_list = recommender.recommend(562843)"
   ]
  },
  {
   "cell_type": "code",
   "execution_count": 4,
   "metadata": {},
   "outputs": [
    {
     "data": {
      "text/plain": [
       "[34367, 7551, 6671, 6830, 7308, 6096, 18589, 5303, 29772, 9851]"
      ]
     },
     "execution_count": 4,
     "metadata": {},
     "output_type": "execute_result"
    }
   ],
   "source": [
    "rec_list"
   ]
  },
  {
   "cell_type": "code",
   "execution_count": 6,
   "metadata": {},
   "outputs": [],
   "source": [
    "import app.backend.DBController as dbc\n",
    "aidx_controller = dbc.DBController().animeIdxDB"
   ]
  },
  {
   "cell_type": "code",
   "execution_count": 6,
   "metadata": {},
   "outputs": [
    {
     "data": {
      "text/plain": [
       "6485"
      ]
     },
     "execution_count": 6,
     "metadata": {},
     "output_type": "execute_result"
    }
   ],
   "source": [
    "aidx_controller.get_new_anime_id(5322)"
   ]
  },
  {
   "cell_type": "code",
   "execution_count": 7,
   "metadata": {},
   "outputs": [
    {
     "data": {
      "text/plain": [
       "[{'_id': ObjectId('60870284f072b65586b19505'),\n",
       "  'anime_id': 34367,\n",
       "  'new_anime_id': 9333}]"
      ]
     },
     "execution_count": 7,
     "metadata": {},
     "output_type": "execute_result"
    }
   ],
   "source": [
    "list(aidx_controller.db.find({'new_anime_id': 9333}))"
   ]
  },
  {
   "cell_type": "code",
   "execution_count": 15,
   "metadata": {},
   "outputs": [],
   "source": [
    "rdb_controller = dbc.DBController().animeDB.get_animes()"
   ]
  },
  {
   "cell_type": "code",
   "execution_count": 19,
   "metadata": {},
   "outputs": [
    {
     "name": "stdout",
     "output_type": "stream",
     "text": [
      "Long Riders! Recap\n",
      "Gowapper 5 Gordam\n",
      "Byeolnala Samchongsa\n",
      "Hinomaru Hatanosuke: Inazuma-gumi Tobatsu no Maki\n",
      "Mirai Shounen Conan (Movie)\n",
      "Bad Boys\n",
      "Hello Kitty no Minna no Mori wo Mamore!\n",
      "Xabungle Graffiti\n",
      "Calm\n",
      "O-parts: Oman\n"
     ]
    }
   ],
   "source": [
    "for x in rec_list:\n",
    "    print(list(rdb_controller.find({'anime_id': x}))[0]['title'])"
   ]
  },
  {
   "cell_type": "code",
   "execution_count": null,
   "metadata": {},
   "outputs": [],
   "source": []
  }
 ],
 "metadata": {
  "kernelspec": {
   "display_name": "Python 3",
   "language": "python",
   "name": "python3"
  },
  "language_info": {
   "codemirror_mode": {
    "name": "ipython",
    "version": 3
   },
   "file_extension": ".py",
   "mimetype": "text/x-python",
   "name": "python",
   "nbconvert_exporter": "python",
   "pygments_lexer": "ipython3",
   "version": "3.8.8"
  }
 },
 "nbformat": 4,
 "nbformat_minor": 1
}
