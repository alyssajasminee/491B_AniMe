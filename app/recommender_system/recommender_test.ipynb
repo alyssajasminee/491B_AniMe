{
 "cells": [
  {
   "cell_type": "code",
   "execution_count": 1,
   "metadata": {},
   "outputs": [],
   "source": [
    "import time\n",
    "import app.backend.DBController as dbc\n",
    "import recommender.Recommender as RecommenderSystem"
   ]
  },
  {
   "cell_type": "code",
   "execution_count": 2,
   "metadata": {
    "pycharm": {
     "name": "#%%\n"
    }
   },
   "outputs": [],
   "source": [
    "recommender = RecommenderSystem.Recommender()"
   ]
  },
  {
   "cell_type": "code",
   "execution_count": 61,
   "metadata": {},
   "outputs": [
    {
     "name": "stdout",
     "output_type": "stream",
     "text": [
      "4.848423957824707\n"
     ]
    }
   ],
   "source": [
    "user_id = 562843 # 562843 73511\n",
    "\n",
    "start = time.time()\n",
    "rec_list = recommender.recommend(user_id)\n",
    "print(time.time()-start)"
   ]
  },
  {
   "cell_type": "code",
   "execution_count": 62,
   "metadata": {},
   "outputs": [
    {
     "data": {
      "text/plain": [
       "[34367, 7551, 6671, 6830, 7308, 6096, 18589, 5303, 29772, 9851]"
      ]
     },
     "execution_count": 62,
     "metadata": {},
     "output_type": "execute_result"
    }
   ],
   "source": [
    "rec_list"
   ]
  },
  {
   "cell_type": "code",
   "execution_count": 63,
   "metadata": {},
   "outputs": [],
   "source": [
    "rdb_controller = dbc.DBController().animeDB.get_animes()"
   ]
  },
  {
   "cell_type": "code",
   "execution_count": 64,
   "metadata": {},
   "outputs": [
    {
     "name": "stdout",
     "output_type": "stream",
     "text": [
      "Long Riders! Recap\n",
      "Gowapper 5 Gordam\n",
      "Byeolnala Samchongsa\n",
      "Hinomaru Hatanosuke: Inazuma-gumi Tobatsu no Maki\n",
      "Mirai Shounen Conan (Movie)\n",
      "Bad Boys\n",
      "Hello Kitty no Minna no Mori wo Mamore!\n",
      "Xabungle Graffiti\n",
      "Calm\n",
      "O-parts: Oman\n"
     ]
    }
   ],
   "source": [
    "for x in rec_list:\n",
    "    print(list(rdb_controller.find({'anime_id': x}))[0]['title'])"
   ]
  },
  {
   "cell_type": "code",
   "execution_count": 65,
   "metadata": {},
   "outputs": [],
   "source": [
    "reviews_db = dbc.DBController().reviewDB.get_reviews()\n",
    "\n",
    "query = {'user_id': user_id}\n",
    "user_ratings = reviews_db.find(query)\n",
    "user_ratings = list(user_ratings)"
   ]
  },
  {
   "cell_type": "code",
   "execution_count": 66,
   "metadata": {
    "pycharm": {
     "name": "#%%\n"
    }
   },
   "outputs": [
    {
     "data": {
      "text/plain": [
       "[{'_id': ObjectId('6089220c1c4b84debcb6ea6a'),\n",
       "  'user_id': 562843,\n",
       "  'anime_id': 185,\n",
       "  'rating': 5,\n",
       "  'description': '',\n",
       "  'title': ''}]"
      ]
     },
     "execution_count": 66,
     "metadata": {},
     "output_type": "execute_result"
    }
   ],
   "source": [
    "user_ratings"
   ]
  },
  {
   "cell_type": "code",
   "execution_count": 67,
   "metadata": {
    "pycharm": {
     "name": "#%%\n"
    }
   },
   "outputs": [
    {
     "name": "stdout",
     "output_type": "stream",
     "text": [
      "Initial D First Stage\n"
     ]
    }
   ],
   "source": [
    "for rating_dict in user_ratings:\n",
    "    print(list(rdb_controller.find({'anime_id': rating_dict['anime_id'], 'rating': {'$ne': -1}}))[0]['title'])"
   ]
  }
 ],
 "metadata": {
  "kernelspec": {
   "display_name": "Python 3",
   "language": "python",
   "name": "python3"
  },
  "language_info": {
   "codemirror_mode": {
    "name": "ipython",
    "version": 3
   },
   "file_extension": ".py",
   "mimetype": "text/x-python",
   "name": "python",
   "nbconvert_exporter": "python",
   "pygments_lexer": "ipython3",
   "version": "3.8.8"
  }
 },
 "nbformat": 4,
 "nbformat_minor": 1
}
